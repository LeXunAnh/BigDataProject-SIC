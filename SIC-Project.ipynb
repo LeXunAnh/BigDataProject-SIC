{
 "cells": [
  {
   "cell_type": "markdown",
   "id": "297df34c-41d8-4c2c-a97e-478d4bf9f815",
   "metadata": {},
   "source": [
    "# 1. Import các thư viện"
   ]
  },
  {
   "cell_type": "code",
   "execution_count": 1,
   "id": "8fa96275-6864-497e-9abc-bd05a1c734d2",
   "metadata": {},
   "outputs": [],
   "source": [
    "import os\n",
    "import numpy as np\n",
    "import math\n",
    "import pandas as pd"
   ]
  },
  {
   "cell_type": "code",
   "execution_count": null,
   "id": "9cbeb2d0-7f2e-4ff3-9c06-9cab99c68c3d",
   "metadata": {},
   "outputs": [],
   "source": []
  }
 ],
 "metadata": {
  "kernelspec": {
   "display_name": "Python 3 (ipykernel)",
   "language": "python",
   "name": "python3"
  },
  "language_info": {
   "codemirror_mode": {
    "name": "ipython",
    "version": 3
   },
   "file_extension": ".py",
   "mimetype": "text/x-python",
   "name": "python",
   "nbconvert_exporter": "python",
   "pygments_lexer": "ipython3",
   "version": "3.11.0"
  }
 },
 "nbformat": 4,
 "nbformat_minor": 5
}
